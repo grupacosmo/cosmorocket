{
 "cells": [
  {
   "cell_type": "markdown",
   "id": "82b885ea-efb9-4f0a-83b8-f22fb045d210",
   "metadata": {},
   "source": [
    "# 1: Setup Environment"
   ]
  },
  {
   "cell_type": "code",
   "execution_count": null,
   "id": "642bb46e-b4a8-4fb7-a88e-82ae75b447f4",
   "metadata": {
    "scrolled": true
   },
   "outputs": [],
   "source": [
    "lat = 32.990254 #launch site latitude\n",
    "long = -106.974998 #launch site longitude\n",
    "elev = 1400 #launch site elevation (ASL)\n",
    "days_from_today = 0 # >= 0\n",
    "hour = 12 #in UTC\n",
    "max_height = 10000\n",
    "\n",
    "\n",
    "\n",
    "from rocketpy import Environment\n",
    "\n",
    "env = Environment(latitude=lat, longitude=long, elevation=elev, max_expected_height=max_height)\n",
    "\n",
    "import datetime\n",
    "date = datetime.date.today() + datetime.timedelta(days=days_from_today)\n",
    "\n",
    "env.set_date(\n",
    "    (date.year, date.month, date.day, hour)\n",
    ")\n",
    "\n",
    "env.set_atmospheric_model(type=\"Ensemble\", file=\"GEFS\")"
   ]
  },
  {
   "cell_type": "markdown",
   "id": "975d7644-201c-404e-905e-3020007664ba",
   "metadata": {},
   "source": [
    "#### Display Environment Details:"
   ]
  },
  {
   "cell_type": "code",
   "execution_count": null,
   "id": "d85f54ce-4ff0-4bf1-b2c3-8ecb6c1a8b4a",
   "metadata": {},
   "outputs": [],
   "source": [
    "env.info()"
   ]
  },
  {
   "cell_type": "markdown",
   "id": "605d9599-dc49-4150-8bbd-4bd0d7fd2150",
   "metadata": {},
   "source": [
    "# 2: Setup Engine (Solid Fuel)"
   ]
  },
  {
   "cell_type": "code",
   "execution_count": null,
   "id": "74bf92c9-fbbb-459a-a9f6-7083f717c23b",
   "metadata": {},
   "outputs": [],
   "source": [
    "from rocketpy import SolidMotor\n",
    "CosmoEngine = SolidMotor(\n",
    "    thrust_source = lambda x : 2137/(x*x*x+1), #number, lambda, CSV file (time(s), thrust(N)), eng file from provider\n",
    "    dry_mass=1.815, #mass of the engine in kg\n",
    "    dry_inertia=(0.125, 0.125, 0.002),\n",
    "    nozzle_radius=33 / 1000,\n",
    "    grain_number=5,\n",
    "    grain_density=1815,\n",
    "    grain_outer_radius=33 / 1000,\n",
    "    grain_initial_inner_radius=15 / 1000,\n",
    "    grain_initial_height=120 / 1000,\n",
    "    grain_separation=5 / 1000,\n",
    "    grains_center_of_mass_position=0.397,\n",
    "    center_of_dry_mass_position=0.317,\n",
    "    nozzle_position=0,\n",
    "    burn_time=3.9,\n",
    "    throat_radius=11 / 1000,\n",
    "    coordinate_system_orientation=\"nozzle_to_combustion_chamber\",\n",
    ")"
   ]
  },
  {
   "cell_type": "markdown",
   "id": "00cf13c0-dbbd-46bc-ba38-9d27343f1a46",
   "metadata": {},
   "source": [
    "#### Display Info and Draw:"
   ]
  },
  {
   "cell_type": "code",
   "execution_count": null,
   "id": "849cba1e-4ebe-4221-a7aa-d767b8a58124",
   "metadata": {
    "scrolled": true
   },
   "outputs": [],
   "source": [
    "CosmoEngine.info()\n",
    "CosmoEngine.draw()"
   ]
  },
  {
   "cell_type": "markdown",
   "id": "7e5ba703-13f2-421c-a88c-ee71db479549",
   "metadata": {},
   "source": [
    "#### Display Full Info Dump:"
   ]
  },
  {
   "cell_type": "code",
   "execution_count": null,
   "id": "6c5758fa-5b47-4177-8261-7ab06192ef05",
   "metadata": {
    "scrolled": true
   },
   "outputs": [],
   "source": [
    "CosmoEngine.all_info()"
   ]
  },
  {
   "cell_type": "markdown",
   "id": "94fe8d23-0a92-4805-a828-d80b23a7444a",
   "metadata": {},
   "source": [
    "# 3: Setup Rocket"
   ]
  },
  {
   "cell_type": "code",
   "execution_count": null,
   "id": "2eb081c3-0249-48ee-aabc-6fd746e188cc",
   "metadata": {},
   "outputs": [],
   "source": [
    "from rocketpy import Rocket\n",
    "CosmoRocket = Rocket(\n",
    "    radius=127 / 2000,\n",
    "    mass=14.426, #in kg, without engine, with everything else ex.(payload, electronics)\n",
    "    inertia=(6.321, 6.321, 0.034),\n",
    "    power_off_drag= lambda x : x, # CSV file(Mach, Drag), function(Mach) = Drag #RASAero II\n",
    "    power_on_drag= lambda x : x, # CSV file(Mach, Drag), function(Mach) = Drag  #RASAero II\n",
    "    center_of_mass_without_motor=0,\n",
    "    coordinate_system_orientation=\"tail_to_nose\",\n",
    ")\n",
    "\n",
    "CosmoRocket.add_motor(CosmoEngine, position=-1.255)"
   ]
  },
  {
   "cell_type": "markdown",
   "id": "e128be62-8001-4623-8469-3651db65e16b",
   "metadata": {},
   "source": [
    "#### Define and Add rail buttons:"
   ]
  },
  {
   "cell_type": "code",
   "execution_count": null,
   "id": "64b46957-e7ce-43a1-b534-70d357136103",
   "metadata": {},
   "outputs": [],
   "source": [
    "rail_buttons = CosmoRocket.set_rail_buttons(\n",
    "    upper_button_position=0.0818,\n",
    "    lower_button_position=-0.6182,\n",
    "    angular_position=45,\n",
    ")"
   ]
  },
  {
   "cell_type": "markdown",
   "id": "4f49b03d-06f9-4808-9fa8-4ef463c30bf3",
   "metadata": {},
   "source": [
    "#### Define and Add nose cone"
   ]
  },
  {
   "cell_type": "code",
   "execution_count": null,
   "id": "3689673c-e003-45b0-a719-128dc69fa22f",
   "metadata": {},
   "outputs": [],
   "source": [
    "nose_cone = CosmoRocket.add_nose(\n",
    "    length=0.55829,\n",
    "    kind=\"von karman\", # von karman, conical, ogive, Ivhaack, powerseries\n",
    "    position=1.278,\n",
    "    #bluffness = 1 # (for ogive type nose) ratio between radius on the tip and the base\n",
    "    #power = 1 # (for powerseries type nose)\n",
    ")"
   ]
  },
  {
   "cell_type": "markdown",
   "id": "9e6011e5-07a3-4b40-a85f-2d77d40e1d1e",
   "metadata": {},
   "source": [
    "#### Define and Add tapezoidal fins:"
   ]
  },
  {
   "cell_type": "code",
   "execution_count": null,
   "id": "81407a53-0681-456b-b0e1-0ce5c510a4d6",
   "metadata": {},
   "outputs": [],
   "source": [
    "fin_set = CosmoRocket.add_trapezoidal_fins(\n",
    "    n=4, # > 2\n",
    "    span=0.110,\n",
    "    root_chord=0.120,\n",
    "    tip_chord=0.060,\n",
    "    position=-1.04956,\n",
    "    cant_angle=0.5, #in degrees\n",
    "    #airfoil = (\"file\",\"radians\")#CSV or txt file (angle OA, lift) #airfoiltools.com\n",
    ")"
   ]
  },
  {
   "cell_type": "markdown",
   "id": "17c48936-f5a0-4fe9-b795-6c9e3c22cfee",
   "metadata": {},
   "source": [
    "#### Define and Add elliptical fins:"
   ]
  },
  {
   "cell_type": "code",
   "execution_count": null,
   "id": "21dc0f6c-1e12-4e63-aa9e-e328bf37c9ab",
   "metadata": {},
   "outputs": [],
   "source": [
    "fin_set = CosmoRocket.add_elliptical_fins(\n",
    "    n=4, # > 2\n",
    "    span=0.110,\n",
    "    root_chord=0.120,\n",
    "    position=-1.04956,\n",
    "    cant_angle=0.5, #in degrees\n",
    "    #airfoil = (\"file\",\"radians\")#CSV or txt file (angle OA, lift) #airfoiltools.com\n",
    ")"
   ]
  },
  {
   "cell_type": "markdown",
   "id": "a0cf6992-0d69-4924-9d03-cd619b4a3c43",
   "metadata": {},
   "source": [
    "#### Define and Add tail:"
   ]
  },
  {
   "cell_type": "code",
   "execution_count": null,
   "id": "78a43f4b-1fd9-49b3-a4d9-3a30f970524f",
   "metadata": {},
   "outputs": [],
   "source": [
    "tail = CosmoRocket.add_tail(\n",
    "    top_radius=0.0635, bottom_radius=0.0435, length=0.060, position=-1.194656\n",
    ")"
   ]
  },
  {
   "cell_type": "markdown",
   "id": "eeb30738-a0b2-47d8-9236-60dd5e0abb25",
   "metadata": {},
   "source": [
    "#### Define and Add parachute:"
   ]
  },
  {
   "cell_type": "code",
   "execution_count": null,
   "id": "d67a3017-295e-41f9-940a-ea5028555ef9",
   "metadata": {},
   "outputs": [],
   "source": [
    "main = CosmoRocket.add_parachute(\n",
    "    name=\"main\",\n",
    "    cd_s=10.0, #drag * parachute area\n",
    "    trigger=800,      # altitude in meters, \"apogee\", lambda (p, h, y[x,y,z,vx,vy,vz,e0,e1,e2,e3,w1,w2,w3])\n",
    "    sampling_rate=10,\n",
    "    lag=1.5,\n",
    "    noise=(0, 8.3, 0.5),\n",
    ")"
   ]
  },
  {
   "cell_type": "markdown",
   "id": "e58a1ee0-39aa-45e0-8c29-ff3190e2c8f7",
   "metadata": {},
   "source": [
    "### Airbrakes (not as easy as other parts):\n",
    "\n",
    "#### First define airbrakes logic:"
   ]
  },
  {
   "cell_type": "code",
   "execution_count": null,
   "id": "f7e50b6d-6fc8-460b-a77b-9ff3df347f13",
   "metadata": {},
   "outputs": [],
   "source": [
    "def controller_function(time, sampling_rate, state, state_history, observed_variables, air_brakes):\n",
    "    # state = [x, y, z, vx, vy, vz, e0, e1, e2, e3, wx, wy, wz]\n",
    "    altitude_ASL = state[2]\n",
    "    altitude_AGL = altitude_ASL - env.elevation\n",
    "    vx, vy, vz = state[3], state[4], state[5]\n",
    "\n",
    "    # Get winds in x and y directions\n",
    "    wind_x, wind_y = env.wind_velocity_x(altitude_ASL), env.wind_velocity_y(altitude_ASL)\n",
    "\n",
    "    # Calculate Mach number\n",
    "    free_stream_speed = (\n",
    "        (wind_x - vx) ** 2 + (wind_y - vy) ** 2 + (vz) ** 2\n",
    "    ) ** 0.5\n",
    "    mach_number = free_stream_speed / env.speed_of_sound(altitude_ASL)\n",
    "\n",
    "    # Get previous state from state_history\n",
    "    previous_state = state_history[-1]\n",
    "    previous_vz = previous_state[5]\n",
    "\n",
    "    # We can get most recent observed values like this:\n",
    "    # returned_time, deployment_level, drag_coefficient = observed_variables[-1]\n",
    "\n",
    "    # Check if the rocket has reached burnout\n",
    "    if time < CosmoEngine.burn_out_time:\n",
    "        return None\n",
    "\n",
    "    # Air brakes logic:\n",
    "    if altitude_AGL < 400:\n",
    "        air_brakes.deployment_level = 0 #if under 500meters high don't deploy brakes\n",
    "    else:\n",
    "        new_deployment_level = (altitude_AGL/800)\n",
    "\n",
    "        # Define how much brakes can open in one call\n",
    "        max_change = 0.5 / sampling_rate\n",
    "        lower_bound = air_brakes.deployment_level - max_change\n",
    "        upper_bound = air_brakes.deployment_level + max_change\n",
    "        new_deployment_level = min(max(new_deployment_level, lower_bound), upper_bound)\n",
    "\n",
    "        air_brakes.deployment_level = (altitude_AGL/800)\n",
    "\n",
    "    # This needs to return which values we want to observe in time\n",
    "    return (\n",
    "        time,\n",
    "        air_brakes.deployment_level,\n",
    "        air_brakes.drag_coefficient(air_brakes.deployment_level, mach_number),\n",
    "    )"
   ]
  },
  {
   "cell_type": "markdown",
   "id": "d92926a4-cf7e-4017-bc71-351b43d7ea29",
   "metadata": {},
   "source": [
    "#### Define and Add airbrakes:"
   ]
  },
  {
   "cell_type": "code",
   "execution_count": null,
   "id": "05134710-6dba-40fa-98c2-596c57062eda",
   "metadata": {},
   "outputs": [],
   "source": [
    "air_brakes = CosmoRocket.add_air_brakes(\n",
    "    drag_coefficient_curve=\"./a.csv\", #\"CSV(deployment_level(0-1), machNum, dragcoef)\"\n",
    "    controller_function=controller_function,\n",
    "    sampling_rate=10,\n",
    "    reference_area=None,\n",
    "    clamp=True,\n",
    "    initial_observed_variables=[0, 0, 0], #starting values of observed values in logic\n",
    "    override_rocket_drag=False,\n",
    "    name=\"Air Brakes\",\n",
    ")"
   ]
  },
  {
   "cell_type": "markdown",
   "id": "e03bb4a5-f60b-4f91-bc1b-5ddf0dab0661",
   "metadata": {},
   "source": [
    "#### See CSV file graph:"
   ]
  },
  {
   "cell_type": "code",
   "execution_count": null,
   "id": "e623f8f1-7a66-4200-85eb-606fff3f5056",
   "metadata": {},
   "outputs": [],
   "source": [
    "air_brakes.all_info()"
   ]
  },
  {
   "cell_type": "markdown",
   "id": "839cd350-53da-42b1-8c56-035f698cd44b",
   "metadata": {},
   "source": [
    "### \n",
    "#### Display rocket info: (if a mistake was made please return to step 1, 2 or 3)"
   ]
  },
  {
   "cell_type": "code",
   "execution_count": null,
   "id": "7499b008-6ddf-4daf-b297-a32d11cf6afb",
   "metadata": {},
   "outputs": [],
   "source": [
    "CosmoRocket.info()"
   ]
  },
  {
   "cell_type": "markdown",
   "id": "d3e1d26f-d55e-4599-9750-526a2eeedfc4",
   "metadata": {},
   "source": [
    "#### Check if rocket is stable: (negative or very high values might fail the simulation)"
   ]
  },
  {
   "cell_type": "code",
   "execution_count": null,
   "id": "4ad062f1-9c38-4c79-ab4e-d6daf16b429e",
   "metadata": {},
   "outputs": [],
   "source": [
    "CosmoRocket.plots.static_margin()"
   ]
  },
  {
   "cell_type": "markdown",
   "id": "9696b037-d66d-43dc-9571-e0cd99cabd28",
   "metadata": {},
   "source": [
    "#### Display current rocket:"
   ]
  },
  {
   "cell_type": "code",
   "execution_count": null,
   "id": "4c8f2c88-2d92-45c3-ad14-7fdce715a4c0",
   "metadata": {},
   "outputs": [],
   "source": [
    "CosmoRocket.draw()"
   ]
  },
  {
   "cell_type": "markdown",
   "id": "54302619-5641-4aa7-9ad4-20119d35d8f3",
   "metadata": {},
   "source": [
    "# 4: Simulation\n",
    "#### Start simulation: (name it distinctly if for comparison uses)"
   ]
  },
  {
   "cell_type": "code",
   "execution_count": null,
   "id": "0cce71aa-9f43-4d16-86f8-4b9ff5c3e34f",
   "metadata": {},
   "outputs": [],
   "source": [
    "from rocketpy import Flight\n",
    "test_flight = Flight(\n",
    "    rocket=CosmoRocket, environment=env, rail_length=5.2, inclination=85, heading=0, name=\"flight\",\n",
    "    time_overshoot=True #SET TO FALSE IF USING AIRBRAKES!\n",
    ")"
   ]
  },
  {
   "cell_type": "markdown",
   "id": "0d06d8aa-25b5-486b-a82b-4062b7b94bf4",
   "metadata": {},
   "source": [
    "#### Initiate and clear comparison list: (optional)"
   ]
  },
  {
   "cell_type": "code",
   "execution_count": null,
   "id": "1a63c9df-de1f-4e60-b536-40cf8a624972",
   "metadata": {},
   "outputs": [],
   "source": [
    "compare_list = []"
   ]
  },
  {
   "cell_type": "markdown",
   "id": "f6940302-1096-4a9c-9314-005f4e1cab50",
   "metadata": {},
   "source": [
    "#### Add this simulation to comparison list: (optional)"
   ]
  },
  {
   "cell_type": "code",
   "execution_count": null,
   "id": "75e18bb5-bd54-40cb-8023-b69804e5cb9a",
   "metadata": {},
   "outputs": [],
   "source": [
    "compare_list.append(test_flight)"
   ]
  },
  {
   "cell_type": "markdown",
   "id": "9a8c56f4-574e-4cf2-9ac1-5e9b53c64a84",
   "metadata": {},
   "source": [
    "#### Plot simulated trajectory:"
   ]
  },
  {
   "cell_type": "code",
   "execution_count": null,
   "id": "520ae608-cd41-487b-9f79-b6e2b6978f89",
   "metadata": {
    "scrolled": true
   },
   "outputs": [],
   "source": [
    "test_flight.prints.burn_out_conditions()\n",
    "test_flight.prints.apogee_conditions()\n",
    "test_flight.altitude()\n",
    "test_flight.vz()\n",
    "test_flight.plots.trajectory_3d()"
   ]
  },
  {
   "cell_type": "markdown",
   "id": "a2ed3bf3-26c1-4d06-8caa-62f005de8771",
   "metadata": {},
   "source": [
    "#### Display basic flight info:"
   ]
  },
  {
   "cell_type": "code",
   "execution_count": null,
   "id": "84bab2f5-9565-4413-9fc8-131da99c8dd9",
   "metadata": {},
   "outputs": [],
   "source": [
    "test_flight.info()"
   ]
  },
  {
   "cell_type": "markdown",
   "id": "998f595f-d06f-45c6-83f3-dfec039b495a",
   "metadata": {},
   "source": [
    "#### Display velocity plots:"
   ]
  },
  {
   "cell_type": "code",
   "execution_count": null,
   "id": "d5507771-5fc9-42b6-b7eb-91319284133b",
   "metadata": {},
   "outputs": [],
   "source": [
    "test_flight.plots.linear_kinematics_data()"
   ]
  },
  {
   "cell_type": "markdown",
   "id": "df3e27c4-d014-4341-a1e0-7d4028594fc4",
   "metadata": {},
   "source": [
    "#### Display flight angle plots:"
   ]
  },
  {
   "cell_type": "code",
   "execution_count": null,
   "id": "d7eb4666-6767-4948-a6e6-dac066597399",
   "metadata": {},
   "outputs": [],
   "source": [
    "test_flight.plots.flight_path_angle_data() #the more apart angle lines are the less stable rocket is"
   ]
  },
  {
   "cell_type": "markdown",
   "id": "7427f48d-b3e3-442e-8f38-572841f62ba8",
   "metadata": {},
   "source": [
    "#### Dump all flight info:"
   ]
  },
  {
   "cell_type": "code",
   "execution_count": null,
   "id": "0b91c92f-4dc3-4ce4-89dd-193118bf3a5e",
   "metadata": {
    "scrolled": true
   },
   "outputs": [],
   "source": [
    "test_flight.all_info() #additional info dump"
   ]
  },
  {
   "cell_type": "markdown",
   "id": "ba6659e3-79b2-4aea-b220-4d331c0c9742",
   "metadata": {},
   "source": [
    "## Compare added flights:"
   ]
  },
  {
   "cell_type": "code",
   "execution_count": null,
   "id": "8f4e7721-9f33-4aa0-b009-07d9d65ab5b5",
   "metadata": {},
   "outputs": [],
   "source": [
    "from rocketpy.plots.compare import CompareFlights\n",
    "\n",
    "comparison = CompareFlights(compare_list)\n",
    "\n",
    "comparison.trajectories_3d(legend=True)"
   ]
  },
  {
   "cell_type": "markdown",
   "id": "8a2008ee-d831-4808-8f6f-efcbb70a2489",
   "metadata": {},
   "source": [
    "#### Draw basic info:"
   ]
  },
  {
   "cell_type": "code",
   "execution_count": null,
   "id": "dc839492-aeac-45af-b274-f0b53ac4da86",
   "metadata": {},
   "outputs": [],
   "source": [
    "comparison.positions()\n",
    "comparison.velocities()\n",
    "comparison.accelerations()"
   ]
  },
  {
   "cell_type": "markdown",
   "id": "cafb6058-ef7a-4815-b783-0a44c6e9f569",
   "metadata": {},
   "source": [
    "#### Dump all comparison info:"
   ]
  },
  {
   "cell_type": "code",
   "execution_count": null,
   "id": "be5ce872-e517-4dd5-80c4-723c1cde6894",
   "metadata": {},
   "outputs": [],
   "source": [
    "comparison.all()"
   ]
  },
  {
   "cell_type": "markdown",
   "id": "d9cb24a2-10fc-4ddd-ae90-4260ff4b602a",
   "metadata": {},
   "source": [
    "## Mission Type: Payload\n",
    "#### Define Payload:"
   ]
  },
  {
   "cell_type": "code",
   "execution_count": null,
   "id": "337500e2-3eb4-45a5-b3a1-2f53b6bbb45d",
   "metadata": {},
   "outputs": [],
   "source": [
    "from rocketpy import Rocket\n",
    "\n",
    "payload = Rocket(\n",
    "    radius=127 / 2000,\n",
    "    mass=1,\n",
    "    inertia=(0.1, 0.1, 0.001),\n",
    "    power_off_drag=0.5,\n",
    "    power_on_drag=0.5,\n",
    "    center_of_mass_without_motor=0,\n",
    ")\n",
    "\n",
    "\n",
    "CosmoRocketNoPayload = CosmoRocket\n",
    "CosmoRocketNoPayload.mass = CosmoRocketNoPayload.mass - payload.mass"
   ]
  },
  {
   "cell_type": "markdown",
   "id": "e45d6b15-8425-4632-b1cc-8f39454ea9a3",
   "metadata": {},
   "source": [
    "#### Define and Add payload parachute:"
   ]
  },
  {
   "cell_type": "code",
   "execution_count": null,
   "id": "6584927a-1ec6-4758-b08e-969aa8caff01",
   "metadata": {},
   "outputs": [],
   "source": [
    "payload_main = payload.add_parachute(\n",
    "    \"Main\",\n",
    "    cd_s=4.0,\n",
    "    trigger=400,\n",
    "    sampling_rate=105,\n",
    "    lag=1.5,\n",
    "    noise=(0, 8.3, 0.5),\n",
    ")"
   ]
  },
  {
   "cell_type": "markdown",
   "id": "13d9d30d-5188-43b2-89c9-226c0c355fbe",
   "metadata": {},
   "source": [
    "#### Simulate Payload Mission: (remember to set rail length, inclination and direction in phase 1)"
   ]
  },
  {
   "cell_type": "code",
   "execution_count": null,
   "id": "139ed342-f6c6-4371-bbdf-1d74c16890e4",
   "metadata": {},
   "outputs": [],
   "source": [
    "from rocketpy.plots.compare import CompareFlights\n",
    "\n",
    "phase1 = Flight(rocket=CosmoRocket, environment=env, rail_length=5.2, inclination=85, heading=0, terminate_on_apogee=True, name=\"Rocket with Payload\")\n",
    "phase2 = Flight(rocket=payload, environment=env, rail_length=5.2, inclination=85, heading=0, initial_solution=phase1, name=\"Payload\")\n",
    "phase3 = Flight(rocket=CosmoRocketNoPayload, environment=env, rail_length=5.2, inclination=85, heading=0, initial_solution=phase1, name=\"Rocket without Payload\")\n",
    "\n",
    "comparison = CompareFlights([phase1, phase2, phase3])"
   ]
  },
  {
   "cell_type": "markdown",
   "id": "fbabdfc8-2ab9-4b6c-9578-32937ecd37ea",
   "metadata": {},
   "source": [
    "#### Plot Mission Trajectory:"
   ]
  },
  {
   "cell_type": "code",
   "execution_count": null,
   "id": "e67d096a-cd8e-4ae4-ac67-30b569b16307",
   "metadata": {},
   "outputs": [],
   "source": [
    "comparison.trajectories_3d(legend=True)"
   ]
  },
  {
   "cell_type": "markdown",
   "id": "0a75fe3b-2b61-452b-9e07-01828c5818c6",
   "metadata": {},
   "source": [
    "#### Draw basic info:"
   ]
  },
  {
   "cell_type": "code",
   "execution_count": null,
   "id": "a59a7452-4d49-42bd-aea3-98bc512fa129",
   "metadata": {},
   "outputs": [],
   "source": [
    "comparison.positions()\n",
    "comparison.velocities()\n",
    "comparison.accelerations()"
   ]
  },
  {
   "cell_type": "markdown",
   "id": "274a8188-4bb0-4677-ada5-82aeb7bc3f40",
   "metadata": {},
   "source": [
    "#### Dump all mission info"
   ]
  },
  {
   "cell_type": "code",
   "execution_count": null,
   "id": "191ac9d5-7f39-4201-9c95-c4d11dc2a38c",
   "metadata": {},
   "outputs": [],
   "source": [
    "comparison.all()"
   ]
  },
  {
   "cell_type": "markdown",
   "id": "908e53dc-ad10-408b-8826-07a5a9fabbd1",
   "metadata": {},
   "source": [
    "## Mission Type: Uncertain Values\n",
    "#### Define Uncertain Environment:"
   ]
  },
  {
   "cell_type": "code",
   "execution_count": null,
   "id": "64a86fce-3a34-437d-8b57-10df4131fc38",
   "metadata": {},
   "outputs": [],
   "source": [
    "from rocketpy.stochastic import StochasticEnvironment\n",
    "\n",
    "#set how much you want the value to change (using normal distribution)\n",
    "#if some values aren't meant to be randomize, comment these lines\n",
    "random_env = StochasticEnvironment(\n",
    "    environment=env,\n",
    "    ensemble_member=list(range(env.num_ensemble_members)), #randomly select from few forecasts, if unwanted comment this line\n",
    "    longitude = 0.00001,\n",
    "    latitude = 0.00001,\n",
    "    elevation = 1\n",
    ")"
   ]
  },
  {
   "cell_type": "markdown",
   "id": "1efeb1e8-7781-4d3f-9c69-287362632a84",
   "metadata": {},
   "source": [
    "#### Show Environment Randomization:"
   ]
  },
  {
   "cell_type": "code",
   "execution_count": null,
   "id": "1e4b9cf4-9ca6-413e-8289-b81f86eb6c5f",
   "metadata": {},
   "outputs": [],
   "source": [
    "random_env.visualize_attributes()"
   ]
  },
  {
   "cell_type": "markdown",
   "id": "bb9ddace-1bb0-46b3-8f86-e0c35ffb5b6f",
   "metadata": {},
   "source": [
    "#### Define Uncertain Engine:"
   ]
  },
  {
   "cell_type": "code",
   "execution_count": null,
   "id": "5487e828-df51-468e-ba66-2608d28343cc",
   "metadata": {},
   "outputs": [],
   "source": [
    "from rocketpy.stochastic import StochasticSolidMotor\n",
    "\n",
    "#set how much you want the value to change (using normal distribution)\n",
    "#if some values aren't meant to be randomize, comment these lines\n",
    "random_Engine = StochasticSolidMotor(\n",
    "    solid_motor = CosmoEngine,\n",
    "    burn_out_time=0.1,\n",
    "    burn_start_time=0.1,\n",
    "    dry_mass=0.01,\n",
    "    center_of_dry_mass_position=0.001,\n",
    "    grains_center_of_mass_position=0.001,\n",
    "    grain_density=50,\n",
    "    grain_separation=1 / 1000,\n",
    "    grain_initial_height=1 / 1000,\n",
    "    grain_initial_inner_radius=0.375 / 1000,\n",
    "    grain_outer_radius=0.375 / 1000,\n",
    "    total_impulse=5,\n",
    "    throat_radius=0.5 / 1000,\n",
    "    nozzle_radius=0.5 / 1000,\n",
    "    nozzle_position=0.001,\n",
    ")"
   ]
  },
  {
   "cell_type": "markdown",
   "id": "05588eb3-1f7d-4d3c-8eef-994bbc096cc0",
   "metadata": {},
   "source": [
    "#### Show Engine Randomization:"
   ]
  },
  {
   "cell_type": "code",
   "execution_count": null,
   "id": "4437a85d-860c-45cd-9ae6-db6996204be2",
   "metadata": {},
   "outputs": [],
   "source": [
    "random_Engine.visualize_attributes()"
   ]
  },
  {
   "cell_type": "markdown",
   "id": "f6006875-8996-4f5f-8bb2-f794172a9495",
   "metadata": {},
   "source": [
    "#### Define Uncertain Rocket:"
   ]
  },
  {
   "cell_type": "code",
   "execution_count": null,
   "id": "fb02e1fd-eaca-48c2-8477-56f3eaf8a10e",
   "metadata": {},
   "outputs": [],
   "source": [
    "from rocketpy.stochastic import StochasticRocket\n",
    "\n",
    "#set how much you want the value to change (using normal distribution)\n",
    "#if some values aren't meant to be randomize, comment these lines\n",
    "random_rocket = StochasticRocket(\n",
    "    rocket=CosmoRocket,\n",
    "    radius=0.0127 / 2000,\n",
    "    mass=0.05,\n",
    "    inertia_11=0.01,\n",
    "    inertia_22=0.01,\n",
    "    inertia_33=0.01,\n",
    "    center_of_mass_without_motor=0.1,\n",
    ")\n",
    "random_rocket.add_motor(random_Engine, position=0.01)"
   ]
  },
  {
   "cell_type": "markdown",
   "id": "85eef386-5bff-427f-a3a0-3752a2f7b8a3",
   "metadata": {},
   "source": [
    "#### Show Rocket Randomization:"
   ]
  },
  {
   "cell_type": "code",
   "execution_count": null,
   "id": "306e7413-67d3-4608-908c-0e0395466701",
   "metadata": {},
   "outputs": [],
   "source": [
    "random_rocket.visualize_attributes()"
   ]
  },
  {
   "cell_type": "markdown",
   "id": "e918addd-01b9-47f1-8edc-6fcdcb377bb0",
   "metadata": {},
   "source": [
    "#### Define Uncertain Flight: "
   ]
  },
  {
   "cell_type": "code",
   "execution_count": null,
   "id": "a371a3f1-7068-46ca-b718-1e48f153839f",
   "metadata": {},
   "outputs": [],
   "source": [
    "from rocketpy.stochastic import StochasticFlight\n",
    "\n",
    "#set how much you want the value to change (using normal distribution)\n",
    "#if some values aren't meant to be randomize, comment these lines\n",
    "random_flight = StochasticFlight(\n",
    "    flight=test_flight,\n",
    "    rail_length=0.1,\n",
    "    inclination=2,\n",
    "    heading=1\n",
    ")"
   ]
  },
  {
   "cell_type": "markdown",
   "id": "83681455-d381-4218-b10b-c69b1e434f60",
   "metadata": {},
   "source": [
    "#### Show Flight Randomization:"
   ]
  },
  {
   "cell_type": "code",
   "execution_count": null,
   "id": "8093e036-cc56-4279-87c9-a1686db9824c",
   "metadata": {},
   "outputs": [],
   "source": [
    "random_flight.visualize_attributes()"
   ]
  },
  {
   "cell_type": "markdown",
   "id": "8bd95ac6-5ea3-40e4-a6bc-52a76002a752",
   "metadata": {},
   "source": [
    "#### Simulate (n) Randomized Flights: (might take a while!)"
   ]
  },
  {
   "cell_type": "code",
   "execution_count": null,
   "id": "4fb988de-9783-4247-a06f-f214469a542b",
   "metadata": {},
   "outputs": [],
   "source": [
    "n = 100\n",
    "\n",
    "from rocketpy import MonteCarlo\n",
    "\n",
    "simulations = MonteCarlo(\n",
    "    filename=\"monte_carlo_simulations/test\", #file must exist!\n",
    "    environment=random_env,\n",
    "    rocket=random_rocket,\n",
    "    flight=random_flight\n",
    ")\n",
    "\n",
    "simulations.simulate(\n",
    "    number_of_simulations=n, append=False, include_function_data=False\n",
    ")"
   ]
  },
  {
   "cell_type": "markdown",
   "id": "4d79a5e3-e9d0-48ad-991d-6a3b0481602f",
   "metadata": {},
   "source": [
    "#### Show Results:"
   ]
  },
  {
   "cell_type": "code",
   "execution_count": null,
   "id": "9a5f248a-94ba-4840-9367-4019f53c0ae6",
   "metadata": {},
   "outputs": [],
   "source": [
    "#apogee is in ASL not AGL!!!\n",
    "simulations.prints.all()"
   ]
  },
  {
   "cell_type": "code",
   "execution_count": null,
   "id": "23ea0984-f335-409b-8fa3-dac5354a052a",
   "metadata": {},
   "outputs": [],
   "source": [
    "simulations.plots.ellipses(xlim=(-50, 50), ylim=(-100, 750)) #set axis limits to expected range!"
   ]
  },
  {
   "cell_type": "code",
   "execution_count": null,
   "id": "91ae8e84-ffbe-4f51-93e6-3dbaf069903e",
   "metadata": {},
   "outputs": [],
   "source": [
    "simulations.plots.all()"
   ]
  }
 ],
 "metadata": {
  "kernelspec": {
   "display_name": "Python 3 (ipykernel)",
   "language": "python",
   "name": "python3"
  },
  "language_info": {
   "codemirror_mode": {
    "name": "ipython",
    "version": 3
   },
   "file_extension": ".py",
   "mimetype": "text/x-python",
   "name": "python",
   "nbconvert_exporter": "python",
   "pygments_lexer": "ipython3",
   "version": "3.13.2"
  }
 },
 "nbformat": 4,
 "nbformat_minor": 5
}
